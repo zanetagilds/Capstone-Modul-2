{
 "cells": [
  {
   "cell_type": "markdown",
   "metadata": {},
   "source": [
    "### **Airbnb Listings Bangkok**"
   ]
  },
  {
   "cell_type": "markdown",
   "metadata": {},
   "source": [
    "## About Dataset"
   ]
  },
  {
   "cell_type": "markdown",
   "metadata": {},
   "source": [
    "#### \n",
    "It's a list of places where people can stay through Airbnb when they visit Bangkok. It gives details about each stay, the type of room, the price, how many minimum nights guests can stay, and how many reviews it has. This dataset helps Airbnb from Bangkok representative to improve their policy better. "
   ]
  },
  {
   "cell_type": "markdown",
   "metadata": {},
   "source": [
    "## The Stakeholder"
   ]
  },
  {
   "cell_type": "markdown",
   "metadata": {},
   "source": [
    "#### The C-level executive of Airbnb's Bangkok representative"
   ]
  },
  {
   "cell_type": "markdown",
   "metadata": {},
   "source": [
    "## Problems and Goals"
   ]
  },
  {
   "cell_type": "markdown",
   "metadata": {},
   "source": [
    "####\n",
    "- Problems:\n",
    "1. Guests did not review the unit after they checked out\n",
    "2. Insufficient reviews make it difficult for hosts to improve the quality of their units\n",
    "3. Bad or no review from the guests might lead to Airbnb's reputation and a lack of trust among potential guests\n",
    "\n",
    "- Goals:\n",
    "1. Help hosts to identify for enhancing the quality of their listings\n",
    "2. Policy to oblige the guest to review \n",
    "3. Aim to continually improve the experience for both hosts and guests on the platform.\n",
    " \n",
    "- Insights: \n",
    "1. Top 5 Listings by Neighbourhood\n",
    "2. The Most Frequent Room Types in Vadhana\n",
    "3. Top 5 Neighbourhoods with the Lowest Total Reviews Received. Output tersebut  akan dijadikan acuan pada insights selanjutnya\n",
    "4. Top 5 Neighbourhoods with Lowest Review Received\n",
    "5. Top 5 Host with the Lowest Total Reviews Received Khlong Tei\n",
    "6. Top 5 Host with Lowest Review Received in Khlong Tei"
   ]
  },
  {
   "cell_type": "markdown",
   "metadata": {},
   "source": [
    "### **a. Import Library & Data**"
   ]
  },
  {
   "cell_type": "code",
   "execution_count": 3,
   "metadata": {},
   "outputs": [],
   "source": [
    "#Import Library\n",
    "import pandas as pd\n",
    "import numpy as np\n",
    "import matplotlib.pyplot as plt\n",
    "import seaborn as sns\n",
    "from scipy.stats import normaltest, chi2_contingency, mannwhitneyu, ttest_ind\n",
    "import folium\n",
    "\n",
    "import warnings\n",
    "warnings.filterwarnings(\"ignore\")"
   ]
  },
  {
   "cell_type": "code",
   "execution_count": 4,
   "metadata": {},
   "outputs": [
    {
     "data": {
      "text/html": [
       "<div>\n",
       "<style scoped>\n",
       "    .dataframe tbody tr th:only-of-type {\n",
       "        vertical-align: middle;\n",
       "    }\n",
       "\n",
       "    .dataframe tbody tr th {\n",
       "        vertical-align: top;\n",
       "    }\n",
       "\n",
       "    .dataframe thead th {\n",
       "        text-align: right;\n",
       "    }\n",
       "</style>\n",
       "<table border=\"1\" class=\"dataframe\">\n",
       "  <thead>\n",
       "    <tr style=\"text-align: right;\">\n",
       "      <th></th>\n",
       "      <th>Unnamed: 0</th>\n",
       "      <th>id</th>\n",
       "      <th>name</th>\n",
       "      <th>host_id</th>\n",
       "      <th>host_name</th>\n",
       "      <th>neighbourhood</th>\n",
       "      <th>latitude</th>\n",
       "      <th>longitude</th>\n",
       "      <th>room_type</th>\n",
       "      <th>price</th>\n",
       "      <th>minimum_nights</th>\n",
       "      <th>number_of_reviews</th>\n",
       "      <th>last_review</th>\n",
       "      <th>reviews_per_month</th>\n",
       "      <th>calculated_host_listings_count</th>\n",
       "      <th>availability_365</th>\n",
       "      <th>number_of_reviews_ltm</th>\n",
       "    </tr>\n",
       "  </thead>\n",
       "  <tbody>\n",
       "    <tr>\n",
       "      <th>0</th>\n",
       "      <td>0</td>\n",
       "      <td>27934</td>\n",
       "      <td>Nice room with superb city view</td>\n",
       "      <td>120437</td>\n",
       "      <td>Nuttee</td>\n",
       "      <td>Ratchathewi</td>\n",
       "      <td>13.759830</td>\n",
       "      <td>100.541340</td>\n",
       "      <td>Entire home/apt</td>\n",
       "      <td>1905</td>\n",
       "      <td>3</td>\n",
       "      <td>65</td>\n",
       "      <td>2020-01-06</td>\n",
       "      <td>0.50</td>\n",
       "      <td>2</td>\n",
       "      <td>353</td>\n",
       "      <td>0</td>\n",
       "    </tr>\n",
       "    <tr>\n",
       "      <th>1</th>\n",
       "      <td>1</td>\n",
       "      <td>27979</td>\n",
       "      <td>Easy going landlord,easy place</td>\n",
       "      <td>120541</td>\n",
       "      <td>Emy</td>\n",
       "      <td>Bang Na</td>\n",
       "      <td>13.668180</td>\n",
       "      <td>100.616740</td>\n",
       "      <td>Private room</td>\n",
       "      <td>1316</td>\n",
       "      <td>1</td>\n",
       "      <td>0</td>\n",
       "      <td>NaN</td>\n",
       "      <td>NaN</td>\n",
       "      <td>2</td>\n",
       "      <td>358</td>\n",
       "      <td>0</td>\n",
       "    </tr>\n",
       "    <tr>\n",
       "      <th>2</th>\n",
       "      <td>2</td>\n",
       "      <td>28745</td>\n",
       "      <td>modern-style apartment in Bangkok</td>\n",
       "      <td>123784</td>\n",
       "      <td>Familyroom</td>\n",
       "      <td>Bang Kapi</td>\n",
       "      <td>13.752320</td>\n",
       "      <td>100.624020</td>\n",
       "      <td>Private room</td>\n",
       "      <td>800</td>\n",
       "      <td>60</td>\n",
       "      <td>0</td>\n",
       "      <td>NaN</td>\n",
       "      <td>NaN</td>\n",
       "      <td>1</td>\n",
       "      <td>365</td>\n",
       "      <td>0</td>\n",
       "    </tr>\n",
       "    <tr>\n",
       "      <th>3</th>\n",
       "      <td>3</td>\n",
       "      <td>35780</td>\n",
       "      <td>Spacious one bedroom at The Kris Condo Bldg. 3</td>\n",
       "      <td>153730</td>\n",
       "      <td>Sirilak</td>\n",
       "      <td>Din Daeng</td>\n",
       "      <td>13.788230</td>\n",
       "      <td>100.572560</td>\n",
       "      <td>Private room</td>\n",
       "      <td>1286</td>\n",
       "      <td>7</td>\n",
       "      <td>2</td>\n",
       "      <td>2022-04-01</td>\n",
       "      <td>0.03</td>\n",
       "      <td>1</td>\n",
       "      <td>323</td>\n",
       "      <td>1</td>\n",
       "    </tr>\n",
       "    <tr>\n",
       "      <th>4</th>\n",
       "      <td>4</td>\n",
       "      <td>941865</td>\n",
       "      <td>Suite Room 3 at MetroPoint</td>\n",
       "      <td>610315</td>\n",
       "      <td>Kasem</td>\n",
       "      <td>Bang Kapi</td>\n",
       "      <td>13.768720</td>\n",
       "      <td>100.633380</td>\n",
       "      <td>Private room</td>\n",
       "      <td>1905</td>\n",
       "      <td>1</td>\n",
       "      <td>0</td>\n",
       "      <td>NaN</td>\n",
       "      <td>NaN</td>\n",
       "      <td>3</td>\n",
       "      <td>365</td>\n",
       "      <td>0</td>\n",
       "    </tr>\n",
       "    <tr>\n",
       "      <th>...</th>\n",
       "      <td>...</td>\n",
       "      <td>...</td>\n",
       "      <td>...</td>\n",
       "      <td>...</td>\n",
       "      <td>...</td>\n",
       "      <td>...</td>\n",
       "      <td>...</td>\n",
       "      <td>...</td>\n",
       "      <td>...</td>\n",
       "      <td>...</td>\n",
       "      <td>...</td>\n",
       "      <td>...</td>\n",
       "      <td>...</td>\n",
       "      <td>...</td>\n",
       "      <td>...</td>\n",
       "      <td>...</td>\n",
       "      <td>...</td>\n",
       "    </tr>\n",
       "    <tr>\n",
       "      <th>15849</th>\n",
       "      <td>15849</td>\n",
       "      <td>790465040741092826</td>\n",
       "      <td>素坤逸核心两房公寓42楼，靠近BTSon nut/无边天际泳池观赏曼谷夜景/出门当地美食街</td>\n",
       "      <td>94899359</td>\n",
       "      <td>Renee</td>\n",
       "      <td>Pra Wet</td>\n",
       "      <td>13.715132</td>\n",
       "      <td>100.653458</td>\n",
       "      <td>Private room</td>\n",
       "      <td>2298</td>\n",
       "      <td>28</td>\n",
       "      <td>0</td>\n",
       "      <td>NaN</td>\n",
       "      <td>NaN</td>\n",
       "      <td>1</td>\n",
       "      <td>362</td>\n",
       "      <td>0</td>\n",
       "    </tr>\n",
       "    <tr>\n",
       "      <th>15850</th>\n",
       "      <td>15850</td>\n",
       "      <td>790474503157243541</td>\n",
       "      <td>Euro LuxuryHotel PratunamMKt TripleBdNrShoping...</td>\n",
       "      <td>491526222</td>\n",
       "      <td>Phakhamon</td>\n",
       "      <td>Ratchathewi</td>\n",
       "      <td>13.753052</td>\n",
       "      <td>100.538738</td>\n",
       "      <td>Private room</td>\n",
       "      <td>1429</td>\n",
       "      <td>1</td>\n",
       "      <td>0</td>\n",
       "      <td>NaN</td>\n",
       "      <td>NaN</td>\n",
       "      <td>14</td>\n",
       "      <td>365</td>\n",
       "      <td>0</td>\n",
       "    </tr>\n",
       "    <tr>\n",
       "      <th>15851</th>\n",
       "      <td>15851</td>\n",
       "      <td>790475335086864240</td>\n",
       "      <td>Euro LuxuryHotel PratunamMKt TwinBedNrShopingArea</td>\n",
       "      <td>491526222</td>\n",
       "      <td>Phakhamon</td>\n",
       "      <td>Ratchathewi</td>\n",
       "      <td>13.753169</td>\n",
       "      <td>100.538700</td>\n",
       "      <td>Private room</td>\n",
       "      <td>1214</td>\n",
       "      <td>1</td>\n",
       "      <td>0</td>\n",
       "      <td>NaN</td>\n",
       "      <td>NaN</td>\n",
       "      <td>14</td>\n",
       "      <td>365</td>\n",
       "      <td>0</td>\n",
       "    </tr>\n",
       "    <tr>\n",
       "      <th>15852</th>\n",
       "      <td>15852</td>\n",
       "      <td>790475546213717328</td>\n",
       "      <td>Euro LuxuryHotel PratunamMKt TwinBedNrShopingArea</td>\n",
       "      <td>491526222</td>\n",
       "      <td>Phakhamon</td>\n",
       "      <td>Ratchathewi</td>\n",
       "      <td>13.754789</td>\n",
       "      <td>100.538757</td>\n",
       "      <td>Private room</td>\n",
       "      <td>1214</td>\n",
       "      <td>1</td>\n",
       "      <td>0</td>\n",
       "      <td>NaN</td>\n",
       "      <td>NaN</td>\n",
       "      <td>14</td>\n",
       "      <td>365</td>\n",
       "      <td>0</td>\n",
       "    </tr>\n",
       "    <tr>\n",
       "      <th>15853</th>\n",
       "      <td>15853</td>\n",
       "      <td>790476492384199044</td>\n",
       "      <td>Euro LuxuryHotel PratunamMKt TwinBedNrShopingArea</td>\n",
       "      <td>491526222</td>\n",
       "      <td>Phakhamon</td>\n",
       "      <td>Ratchathewi</td>\n",
       "      <td>13.752960</td>\n",
       "      <td>100.540820</td>\n",
       "      <td>Private room</td>\n",
       "      <td>1214</td>\n",
       "      <td>1</td>\n",
       "      <td>0</td>\n",
       "      <td>NaN</td>\n",
       "      <td>NaN</td>\n",
       "      <td>14</td>\n",
       "      <td>365</td>\n",
       "      <td>0</td>\n",
       "    </tr>\n",
       "  </tbody>\n",
       "</table>\n",
       "<p>15854 rows × 17 columns</p>\n",
       "</div>"
      ],
      "text/plain": [
       "       Unnamed: 0                  id  \\\n",
       "0               0               27934   \n",
       "1               1               27979   \n",
       "2               2               28745   \n",
       "3               3               35780   \n",
       "4               4              941865   \n",
       "...           ...                 ...   \n",
       "15849       15849  790465040741092826   \n",
       "15850       15850  790474503157243541   \n",
       "15851       15851  790475335086864240   \n",
       "15852       15852  790475546213717328   \n",
       "15853       15853  790476492384199044   \n",
       "\n",
       "                                                    name    host_id  \\\n",
       "0                        Nice room with superb city view     120437   \n",
       "1                         Easy going landlord,easy place     120541   \n",
       "2                      modern-style apartment in Bangkok     123784   \n",
       "3         Spacious one bedroom at The Kris Condo Bldg. 3     153730   \n",
       "4                             Suite Room 3 at MetroPoint     610315   \n",
       "...                                                  ...        ...   \n",
       "15849      素坤逸核心两房公寓42楼，靠近BTSon nut/无边天际泳池观赏曼谷夜景/出门当地美食街   94899359   \n",
       "15850  Euro LuxuryHotel PratunamMKt TripleBdNrShoping...  491526222   \n",
       "15851  Euro LuxuryHotel PratunamMKt TwinBedNrShopingArea  491526222   \n",
       "15852  Euro LuxuryHotel PratunamMKt TwinBedNrShopingArea  491526222   \n",
       "15853  Euro LuxuryHotel PratunamMKt TwinBedNrShopingArea  491526222   \n",
       "\n",
       "        host_name neighbourhood   latitude   longitude        room_type  \\\n",
       "0          Nuttee   Ratchathewi  13.759830  100.541340  Entire home/apt   \n",
       "1             Emy       Bang Na  13.668180  100.616740     Private room   \n",
       "2      Familyroom     Bang Kapi  13.752320  100.624020     Private room   \n",
       "3         Sirilak     Din Daeng  13.788230  100.572560     Private room   \n",
       "4           Kasem     Bang Kapi  13.768720  100.633380     Private room   \n",
       "...           ...           ...        ...         ...              ...   \n",
       "15849       Renee       Pra Wet  13.715132  100.653458     Private room   \n",
       "15850   Phakhamon   Ratchathewi  13.753052  100.538738     Private room   \n",
       "15851   Phakhamon   Ratchathewi  13.753169  100.538700     Private room   \n",
       "15852   Phakhamon   Ratchathewi  13.754789  100.538757     Private room   \n",
       "15853   Phakhamon   Ratchathewi  13.752960  100.540820     Private room   \n",
       "\n",
       "       price  minimum_nights  number_of_reviews last_review  \\\n",
       "0       1905               3                 65  2020-01-06   \n",
       "1       1316               1                  0         NaN   \n",
       "2        800              60                  0         NaN   \n",
       "3       1286               7                  2  2022-04-01   \n",
       "4       1905               1                  0         NaN   \n",
       "...      ...             ...                ...         ...   \n",
       "15849   2298              28                  0         NaN   \n",
       "15850   1429               1                  0         NaN   \n",
       "15851   1214               1                  0         NaN   \n",
       "15852   1214               1                  0         NaN   \n",
       "15853   1214               1                  0         NaN   \n",
       "\n",
       "       reviews_per_month  calculated_host_listings_count  availability_365  \\\n",
       "0                   0.50                               2               353   \n",
       "1                    NaN                               2               358   \n",
       "2                    NaN                               1               365   \n",
       "3                   0.03                               1               323   \n",
       "4                    NaN                               3               365   \n",
       "...                  ...                             ...               ...   \n",
       "15849                NaN                               1               362   \n",
       "15850                NaN                              14               365   \n",
       "15851                NaN                              14               365   \n",
       "15852                NaN                              14               365   \n",
       "15853                NaN                              14               365   \n",
       "\n",
       "       number_of_reviews_ltm  \n",
       "0                          0  \n",
       "1                          0  \n",
       "2                          0  \n",
       "3                          1  \n",
       "4                          0  \n",
       "...                      ...  \n",
       "15849                      0  \n",
       "15850                      0  \n",
       "15851                      0  \n",
       "15852                      0  \n",
       "15853                      0  \n",
       "\n",
       "[15854 rows x 17 columns]"
      ]
     },
     "execution_count": 4,
     "metadata": {},
     "output_type": "execute_result"
    }
   ],
   "source": [
    "#Import Dataset\n",
    "df = pd.read_csv('Airbnb Listings Bangkok.csv')\n",
    "df"
   ]
  },
  {
   "cell_type": "markdown",
   "metadata": {},
   "source": [
    "### **b. Data Understanding**"
   ]
  },
  {
   "cell_type": "markdown",
   "metadata": {},
   "source": [
    "#### Data Column & Its Description"
   ]
  },
  {
   "cell_type": "markdown",
   "metadata": {},
   "source": [
    "| Column Name                     | Description                                                                 |\n",
    "|---------------------------------|-----------------------------------------------------------------------------|\n",
    "| id                              | Unique identifier for the listing                                        |\n",
    "| name                            | Name or title of the listing                                             |\n",
    "| host_id                         | Unique identifier for the host/user                                      |\n",
    "| host_name                       | First name(s) of the host                                                |\n",
    "| neighbourhood                    | Neighbourhood determined by geographic coordinates                        |\n",
    "| latitude                        | Geographic latitude coordinate of the listing                            |\n",
    "| longitude                       | Geographic longitude coordinate of the listing                           |\n",
    "| room_type                       | Type of room or accommodation offered                                    |\n",
    "| price                           | Daily price in local currency                                           |\n",
    "| minimum_nights                  | Minimum number of nights required for booking                             |\n",
    "| number_of_reviews               | Total number of reviews the listing has received                          |\n",
    "| last_review                     | Date of the most recent review                                           |\n",
    "| calculated_host_listings_count  | Number of listings owned by the host in the same city/region             |\n",
    "| availability_365                | Availability of the listing on each of the next 365 days                 |\n",
    "| number_of_reviews_ltm           | Number of reviews the listing has received in the last 12 months        |\n"
   ]
  },
  {
   "cell_type": "code",
   "execution_count": 5,
   "metadata": {},
   "outputs": [
    {
     "name": "stdout",
     "output_type": "stream",
     "text": [
      "<class 'pandas.core.frame.DataFrame'>\n",
      "RangeIndex: 15854 entries, 0 to 15853\n",
      "Data columns (total 17 columns):\n",
      " #   Column                          Non-Null Count  Dtype  \n",
      "---  ------                          --------------  -----  \n",
      " 0   Unnamed: 0                      15854 non-null  int64  \n",
      " 1   id                              15854 non-null  int64  \n",
      " 2   name                            15846 non-null  object \n",
      " 3   host_id                         15854 non-null  int64  \n",
      " 4   host_name                       15853 non-null  object \n",
      " 5   neighbourhood                   15854 non-null  object \n",
      " 6   latitude                        15854 non-null  float64\n",
      " 7   longitude                       15854 non-null  float64\n",
      " 8   room_type                       15854 non-null  object \n",
      " 9   price                           15854 non-null  int64  \n",
      " 10  minimum_nights                  15854 non-null  int64  \n",
      " 11  number_of_reviews               15854 non-null  int64  \n",
      " 12  last_review                     10064 non-null  object \n",
      " 13  reviews_per_month               10064 non-null  float64\n",
      " 14  calculated_host_listings_count  15854 non-null  int64  \n",
      " 15  availability_365                15854 non-null  int64  \n",
      " 16  number_of_reviews_ltm           15854 non-null  int64  \n",
      "dtypes: float64(3), int64(9), object(5)\n",
      "memory usage: 2.1+ MB\n"
     ]
    }
   ],
   "source": [
    "# To get info about Dtype\n",
    "df.info()"
   ]
  },
  {
   "cell_type": "code",
   "execution_count": 6,
   "metadata": {},
   "outputs": [
    {
     "data": {
      "text/html": [
       "<div>\n",
       "<style scoped>\n",
       "    .dataframe tbody tr th:only-of-type {\n",
       "        vertical-align: middle;\n",
       "    }\n",
       "\n",
       "    .dataframe tbody tr th {\n",
       "        vertical-align: top;\n",
       "    }\n",
       "\n",
       "    .dataframe thead th {\n",
       "        text-align: right;\n",
       "    }\n",
       "</style>\n",
       "<table border=\"1\" class=\"dataframe\">\n",
       "  <thead>\n",
       "    <tr style=\"text-align: right;\">\n",
       "      <th></th>\n",
       "      <th>Columns</th>\n",
       "      <th>Data Type</th>\n",
       "      <th>N Unique</th>\n",
       "      <th>Unique Sample</th>\n",
       "    </tr>\n",
       "  </thead>\n",
       "  <tbody>\n",
       "    <tr>\n",
       "      <th>0</th>\n",
       "      <td>Unnamed: 0</td>\n",
       "      <td>int64</td>\n",
       "      <td>15854</td>\n",
       "      <td>[9661, 6291]</td>\n",
       "    </tr>\n",
       "    <tr>\n",
       "      <th>1</th>\n",
       "      <td>id</td>\n",
       "      <td>int64</td>\n",
       "      <td>15854</td>\n",
       "      <td>[8703776, 17980313]</td>\n",
       "    </tr>\n",
       "    <tr>\n",
       "      <th>2</th>\n",
       "      <td>name</td>\n",
       "      <td>object</td>\n",
       "      <td>14794</td>\n",
       "      <td>[Cozy 1BR rooftop (BTS Ploenchit) heart of ban...</td>\n",
       "    </tr>\n",
       "    <tr>\n",
       "      <th>3</th>\n",
       "      <td>host_id</td>\n",
       "      <td>int64</td>\n",
       "      <td>6659</td>\n",
       "      <td>[54574474, 23758849]</td>\n",
       "    </tr>\n",
       "    <tr>\n",
       "      <th>4</th>\n",
       "      <td>host_name</td>\n",
       "      <td>object</td>\n",
       "      <td>5312</td>\n",
       "      <td>[ภูริช, The Shade House]</td>\n",
       "    </tr>\n",
       "    <tr>\n",
       "      <th>5</th>\n",
       "      <td>neighbourhood</td>\n",
       "      <td>object</td>\n",
       "      <td>50</td>\n",
       "      <td>[Chatu Chak, Sathon]</td>\n",
       "    </tr>\n",
       "    <tr>\n",
       "      <th>6</th>\n",
       "      <td>latitude</td>\n",
       "      <td>float64</td>\n",
       "      <td>9606</td>\n",
       "      <td>[13.73591, 13.71918]</td>\n",
       "    </tr>\n",
       "    <tr>\n",
       "      <th>7</th>\n",
       "      <td>longitude</td>\n",
       "      <td>float64</td>\n",
       "      <td>10224</td>\n",
       "      <td>[100.48399909682009, 100.49494]</td>\n",
       "    </tr>\n",
       "    <tr>\n",
       "      <th>8</th>\n",
       "      <td>room_type</td>\n",
       "      <td>object</td>\n",
       "      <td>4</td>\n",
       "      <td>[Hotel room, Entire home/apt]</td>\n",
       "    </tr>\n",
       "    <tr>\n",
       "      <th>9</th>\n",
       "      <td>price</td>\n",
       "      <td>int64</td>\n",
       "      <td>3040</td>\n",
       "      <td>[4900, 1001]</td>\n",
       "    </tr>\n",
       "    <tr>\n",
       "      <th>10</th>\n",
       "      <td>minimum_nights</td>\n",
       "      <td>int64</td>\n",
       "      <td>86</td>\n",
       "      <td>[80, 399]</td>\n",
       "    </tr>\n",
       "    <tr>\n",
       "      <th>11</th>\n",
       "      <td>number_of_reviews</td>\n",
       "      <td>int64</td>\n",
       "      <td>298</td>\n",
       "      <td>[66, 406]</td>\n",
       "    </tr>\n",
       "    <tr>\n",
       "      <th>12</th>\n",
       "      <td>last_review</td>\n",
       "      <td>object</td>\n",
       "      <td>1669</td>\n",
       "      <td>[2018-09-02, 2015-01-02]</td>\n",
       "    </tr>\n",
       "    <tr>\n",
       "      <th>13</th>\n",
       "      <td>reviews_per_month</td>\n",
       "      <td>float64</td>\n",
       "      <td>513</td>\n",
       "      <td>[3.75, 4.21]</td>\n",
       "    </tr>\n",
       "    <tr>\n",
       "      <th>14</th>\n",
       "      <td>calculated_host_listings_count</td>\n",
       "      <td>int64</td>\n",
       "      <td>50</td>\n",
       "      <td>[10, 6]</td>\n",
       "    </tr>\n",
       "    <tr>\n",
       "      <th>15</th>\n",
       "      <td>availability_365</td>\n",
       "      <td>int64</td>\n",
       "      <td>366</td>\n",
       "      <td>[174, 281]</td>\n",
       "    </tr>\n",
       "    <tr>\n",
       "      <th>16</th>\n",
       "      <td>number_of_reviews_ltm</td>\n",
       "      <td>int64</td>\n",
       "      <td>85</td>\n",
       "      <td>[59, 44]</td>\n",
       "    </tr>\n",
       "  </tbody>\n",
       "</table>\n",
       "</div>"
      ],
      "text/plain": [
       "                           Columns Data Type  N Unique  \\\n",
       "0                       Unnamed: 0     int64     15854   \n",
       "1                               id     int64     15854   \n",
       "2                             name    object     14794   \n",
       "3                          host_id     int64      6659   \n",
       "4                        host_name    object      5312   \n",
       "5                    neighbourhood    object        50   \n",
       "6                         latitude   float64      9606   \n",
       "7                        longitude   float64     10224   \n",
       "8                        room_type    object         4   \n",
       "9                            price     int64      3040   \n",
       "10                  minimum_nights     int64        86   \n",
       "11               number_of_reviews     int64       298   \n",
       "12                     last_review    object      1669   \n",
       "13               reviews_per_month   float64       513   \n",
       "14  calculated_host_listings_count     int64        50   \n",
       "15                availability_365     int64       366   \n",
       "16           number_of_reviews_ltm     int64        85   \n",
       "\n",
       "                                        Unique Sample  \n",
       "0                                        [9661, 6291]  \n",
       "1                                 [8703776, 17980313]  \n",
       "2   [Cozy 1BR rooftop (BTS Ploenchit) heart of ban...  \n",
       "3                                [54574474, 23758849]  \n",
       "4                            [ภูริช, The Shade House]  \n",
       "5                                [Chatu Chak, Sathon]  \n",
       "6                                [13.73591, 13.71918]  \n",
       "7                     [100.48399909682009, 100.49494]  \n",
       "8                       [Hotel room, Entire home/apt]  \n",
       "9                                        [4900, 1001]  \n",
       "10                                          [80, 399]  \n",
       "11                                          [66, 406]  \n",
       "12                           [2018-09-02, 2015-01-02]  \n",
       "13                                       [3.75, 4.21]  \n",
       "14                                            [10, 6]  \n",
       "15                                         [174, 281]  \n",
       "16                                           [59, 44]  "
      ]
     },
     "execution_count": 6,
     "metadata": {},
     "output_type": "execute_result"
    }
   ],
   "source": [
    "# To see the Data Type, N Unique, and its sample\n",
    "list_df = []\n",
    "for col in df.columns :\n",
    "    list_df.append([\n",
    "        col,\n",
    "        df[col].dtype,\n",
    "        df[col].nunique(),\n",
    "        list(df[col].drop_duplicates().sample(2).values)\n",
    "    ])\n",
    "\n",
    "pd.DataFrame(list_df, columns = ['Columns', 'Data Type', 'N Unique', 'Unique Sample'])"
   ]
  },
  {
   "cell_type": "code",
   "execution_count": 7,
   "metadata": {},
   "outputs": [
    {
     "data": {
      "text/plain": [
       "Unnamed: 0                          int64\n",
       "id                                  int64\n",
       "name                               object\n",
       "host_id                             int64\n",
       "host_name                          object\n",
       "neighbourhood                      object\n",
       "latitude                          float64\n",
       "longitude                         float64\n",
       "room_type                          object\n",
       "price                               int64\n",
       "minimum_nights                      int64\n",
       "number_of_reviews                   int64\n",
       "last_review                        object\n",
       "reviews_per_month                 float64\n",
       "calculated_host_listings_count      int64\n",
       "availability_365                    int64\n",
       "number_of_reviews_ltm               int64\n",
       "dtype: object"
      ]
     },
     "execution_count": 7,
     "metadata": {},
     "output_type": "execute_result"
    }
   ],
   "source": [
    "#Identify dtype from each column\n",
    "\n",
    "df.dtypes"
   ]
  },
  {
   "cell_type": "code",
   "execution_count": 8,
   "metadata": {},
   "outputs": [
    {
     "name": "stdout",
     "output_type": "stream",
     "text": [
      "datetime64[ns]\n"
     ]
    }
   ],
   "source": [
    "# Convert 'last_review' to datetime\n",
    "df['last_review'] = pd.to_datetime(df['last_review'], errors='coerce')\n",
    "\n",
    "# Check the dtype after conversion\n",
    "print(df['last_review'].dtype)"
   ]
  },
  {
   "cell_type": "code",
   "execution_count": 9,
   "metadata": {},
   "outputs": [
    {
     "data": {
      "text/plain": [
       "Unnamed: 0                                 int64\n",
       "id                                         int64\n",
       "name                                      object\n",
       "host_id                                    int64\n",
       "host_name                                 object\n",
       "neighbourhood                             object\n",
       "latitude                                 float64\n",
       "longitude                                float64\n",
       "room_type                                 object\n",
       "price                                      int64\n",
       "minimum_nights                             int64\n",
       "number_of_reviews                          int64\n",
       "last_review                       datetime64[ns]\n",
       "reviews_per_month                        float64\n",
       "calculated_host_listings_count             int64\n",
       "availability_365                           int64\n",
       "number_of_reviews_ltm                      int64\n",
       "dtype: object"
      ]
     },
     "execution_count": 9,
     "metadata": {},
     "output_type": "execute_result"
    }
   ],
   "source": [
    "#Identify dtype from each column\n",
    "\n",
    "df.dtypes"
   ]
  },
  {
   "cell_type": "markdown",
   "metadata": {},
   "source": [
    "#### Assumption from range reviews_per_month:\n",
    "\n",
    "Range berada di 0.01 sampai 19.13. Oleh karena itu, analyst berasumsi range review setiap bulan yang diterima adalah 0.00 hingga 20.00"
   ]
  },
  {
   "cell_type": "markdown",
   "metadata": {},
   "source": [
    "### **c. Missing Values**"
   ]
  },
  {
   "cell_type": "code",
   "execution_count": 10,
   "metadata": {},
   "outputs": [
    {
     "data": {
      "text/plain": [
       "Unnamed: 0                           0\n",
       "id                                   0\n",
       "name                                 8\n",
       "host_id                              0\n",
       "host_name                            1\n",
       "neighbourhood                        0\n",
       "latitude                             0\n",
       "longitude                            0\n",
       "room_type                            0\n",
       "price                                0\n",
       "minimum_nights                       0\n",
       "number_of_reviews                    0\n",
       "last_review                       5790\n",
       "reviews_per_month                 5790\n",
       "calculated_host_listings_count       0\n",
       "availability_365                     0\n",
       "number_of_reviews_ltm                0\n",
       "dtype: int64"
      ]
     },
     "execution_count": 10,
     "metadata": {},
     "output_type": "execute_result"
    }
   ],
   "source": [
    "#To know missing values from the dataset\n",
    "\n",
    "df.isna().sum()"
   ]
  },
  {
   "cell_type": "markdown",
   "metadata": {},
   "source": [
    "kasih penjelasan singkat apa aja yang missing valuesnya"
   ]
  },
  {
   "cell_type": "code",
   "execution_count": 11,
   "metadata": {},
   "outputs": [],
   "source": [
    "# Drop Unnamed: 0\n",
    "\n",
    "df.drop(['Unnamed: 0'], axis = 1,inplace= True)"
   ]
  },
  {
   "cell_type": "code",
   "execution_count": 12,
   "metadata": {},
   "outputs": [],
   "source": [
    "# Fill name with No Name, host_name with Unknown, last_review with 0,reviews_per_month with 0)\n",
    "\n",
    "df['name'].fillna('No Name', inplace= True)\n",
    "df['host_name'].fillna('Unknown', inplace= True)\n",
    "df['last_review'].fillna('0-0-0000', inplace= True)\n",
    "df['reviews_per_month'].fillna('0', inplace= True)"
   ]
  },
  {
   "cell_type": "code",
   "execution_count": 13,
   "metadata": {},
   "outputs": [
    {
     "data": {
      "text/plain": [
       "id                                0\n",
       "name                              0\n",
       "host_id                           0\n",
       "host_name                         0\n",
       "neighbourhood                     0\n",
       "latitude                          0\n",
       "longitude                         0\n",
       "room_type                         0\n",
       "price                             0\n",
       "minimum_nights                    0\n",
       "number_of_reviews                 0\n",
       "last_review                       0\n",
       "reviews_per_month                 0\n",
       "calculated_host_listings_count    0\n",
       "availability_365                  0\n",
       "number_of_reviews_ltm             0\n",
       "dtype: int64"
      ]
     },
     "execution_count": 13,
     "metadata": {},
     "output_type": "execute_result"
    }
   ],
   "source": [
    "#To make sure 0 missing values after \n",
    "df.isna().sum()"
   ]
  },
  {
   "cell_type": "code",
   "execution_count": 14,
   "metadata": {},
   "outputs": [
    {
     "data": {
      "text/html": [
       "<div>\n",
       "<style scoped>\n",
       "    .dataframe tbody tr th:only-of-type {\n",
       "        vertical-align: middle;\n",
       "    }\n",
       "\n",
       "    .dataframe tbody tr th {\n",
       "        vertical-align: top;\n",
       "    }\n",
       "\n",
       "    .dataframe thead th {\n",
       "        text-align: right;\n",
       "    }\n",
       "</style>\n",
       "<table border=\"1\" class=\"dataframe\">\n",
       "  <thead>\n",
       "    <tr style=\"text-align: right;\">\n",
       "      <th></th>\n",
       "      <th>id</th>\n",
       "      <th>name</th>\n",
       "      <th>host_id</th>\n",
       "      <th>host_name</th>\n",
       "      <th>neighbourhood</th>\n",
       "      <th>latitude</th>\n",
       "      <th>longitude</th>\n",
       "      <th>room_type</th>\n",
       "      <th>price</th>\n",
       "      <th>minimum_nights</th>\n",
       "      <th>number_of_reviews</th>\n",
       "      <th>last_review</th>\n",
       "      <th>reviews_per_month</th>\n",
       "      <th>calculated_host_listings_count</th>\n",
       "      <th>availability_365</th>\n",
       "      <th>number_of_reviews_ltm</th>\n",
       "    </tr>\n",
       "  </thead>\n",
       "  <tbody>\n",
       "    <tr>\n",
       "      <th>0</th>\n",
       "      <td>27934</td>\n",
       "      <td>Nice room with superb city view</td>\n",
       "      <td>120437</td>\n",
       "      <td>Nuttee</td>\n",
       "      <td>Ratchathewi</td>\n",
       "      <td>13.759830</td>\n",
       "      <td>100.541340</td>\n",
       "      <td>Entire home/apt</td>\n",
       "      <td>1905</td>\n",
       "      <td>3</td>\n",
       "      <td>65</td>\n",
       "      <td>2020-01-06 00:00:00</td>\n",
       "      <td>0.5</td>\n",
       "      <td>2</td>\n",
       "      <td>353</td>\n",
       "      <td>0</td>\n",
       "    </tr>\n",
       "    <tr>\n",
       "      <th>1</th>\n",
       "      <td>27979</td>\n",
       "      <td>Easy going landlord,easy place</td>\n",
       "      <td>120541</td>\n",
       "      <td>Emy</td>\n",
       "      <td>Bang Na</td>\n",
       "      <td>13.668180</td>\n",
       "      <td>100.616740</td>\n",
       "      <td>Private room</td>\n",
       "      <td>1316</td>\n",
       "      <td>1</td>\n",
       "      <td>0</td>\n",
       "      <td>0-0-0000</td>\n",
       "      <td>0</td>\n",
       "      <td>2</td>\n",
       "      <td>358</td>\n",
       "      <td>0</td>\n",
       "    </tr>\n",
       "    <tr>\n",
       "      <th>2</th>\n",
       "      <td>28745</td>\n",
       "      <td>modern-style apartment in Bangkok</td>\n",
       "      <td>123784</td>\n",
       "      <td>Familyroom</td>\n",
       "      <td>Bang Kapi</td>\n",
       "      <td>13.752320</td>\n",
       "      <td>100.624020</td>\n",
       "      <td>Private room</td>\n",
       "      <td>800</td>\n",
       "      <td>60</td>\n",
       "      <td>0</td>\n",
       "      <td>0-0-0000</td>\n",
       "      <td>0</td>\n",
       "      <td>1</td>\n",
       "      <td>365</td>\n",
       "      <td>0</td>\n",
       "    </tr>\n",
       "    <tr>\n",
       "      <th>3</th>\n",
       "      <td>35780</td>\n",
       "      <td>Spacious one bedroom at The Kris Condo Bldg. 3</td>\n",
       "      <td>153730</td>\n",
       "      <td>Sirilak</td>\n",
       "      <td>Din Daeng</td>\n",
       "      <td>13.788230</td>\n",
       "      <td>100.572560</td>\n",
       "      <td>Private room</td>\n",
       "      <td>1286</td>\n",
       "      <td>7</td>\n",
       "      <td>2</td>\n",
       "      <td>2022-04-01 00:00:00</td>\n",
       "      <td>0.03</td>\n",
       "      <td>1</td>\n",
       "      <td>323</td>\n",
       "      <td>1</td>\n",
       "    </tr>\n",
       "    <tr>\n",
       "      <th>4</th>\n",
       "      <td>941865</td>\n",
       "      <td>Suite Room 3 at MetroPoint</td>\n",
       "      <td>610315</td>\n",
       "      <td>Kasem</td>\n",
       "      <td>Bang Kapi</td>\n",
       "      <td>13.768720</td>\n",
       "      <td>100.633380</td>\n",
       "      <td>Private room</td>\n",
       "      <td>1905</td>\n",
       "      <td>1</td>\n",
       "      <td>0</td>\n",
       "      <td>0-0-0000</td>\n",
       "      <td>0</td>\n",
       "      <td>3</td>\n",
       "      <td>365</td>\n",
       "      <td>0</td>\n",
       "    </tr>\n",
       "    <tr>\n",
       "      <th>...</th>\n",
       "      <td>...</td>\n",
       "      <td>...</td>\n",
       "      <td>...</td>\n",
       "      <td>...</td>\n",
       "      <td>...</td>\n",
       "      <td>...</td>\n",
       "      <td>...</td>\n",
       "      <td>...</td>\n",
       "      <td>...</td>\n",
       "      <td>...</td>\n",
       "      <td>...</td>\n",
       "      <td>...</td>\n",
       "      <td>...</td>\n",
       "      <td>...</td>\n",
       "      <td>...</td>\n",
       "      <td>...</td>\n",
       "    </tr>\n",
       "    <tr>\n",
       "      <th>15849</th>\n",
       "      <td>790465040741092826</td>\n",
       "      <td>素坤逸核心两房公寓42楼，靠近BTSon nut/无边天际泳池观赏曼谷夜景/出门当地美食街</td>\n",
       "      <td>94899359</td>\n",
       "      <td>Renee</td>\n",
       "      <td>Pra Wet</td>\n",
       "      <td>13.715132</td>\n",
       "      <td>100.653458</td>\n",
       "      <td>Private room</td>\n",
       "      <td>2298</td>\n",
       "      <td>28</td>\n",
       "      <td>0</td>\n",
       "      <td>0-0-0000</td>\n",
       "      <td>0</td>\n",
       "      <td>1</td>\n",
       "      <td>362</td>\n",
       "      <td>0</td>\n",
       "    </tr>\n",
       "    <tr>\n",
       "      <th>15850</th>\n",
       "      <td>790474503157243541</td>\n",
       "      <td>Euro LuxuryHotel PratunamMKt TripleBdNrShoping...</td>\n",
       "      <td>491526222</td>\n",
       "      <td>Phakhamon</td>\n",
       "      <td>Ratchathewi</td>\n",
       "      <td>13.753052</td>\n",
       "      <td>100.538738</td>\n",
       "      <td>Private room</td>\n",
       "      <td>1429</td>\n",
       "      <td>1</td>\n",
       "      <td>0</td>\n",
       "      <td>0-0-0000</td>\n",
       "      <td>0</td>\n",
       "      <td>14</td>\n",
       "      <td>365</td>\n",
       "      <td>0</td>\n",
       "    </tr>\n",
       "    <tr>\n",
       "      <th>15851</th>\n",
       "      <td>790475335086864240</td>\n",
       "      <td>Euro LuxuryHotel PratunamMKt TwinBedNrShopingArea</td>\n",
       "      <td>491526222</td>\n",
       "      <td>Phakhamon</td>\n",
       "      <td>Ratchathewi</td>\n",
       "      <td>13.753169</td>\n",
       "      <td>100.538700</td>\n",
       "      <td>Private room</td>\n",
       "      <td>1214</td>\n",
       "      <td>1</td>\n",
       "      <td>0</td>\n",
       "      <td>0-0-0000</td>\n",
       "      <td>0</td>\n",
       "      <td>14</td>\n",
       "      <td>365</td>\n",
       "      <td>0</td>\n",
       "    </tr>\n",
       "    <tr>\n",
       "      <th>15852</th>\n",
       "      <td>790475546213717328</td>\n",
       "      <td>Euro LuxuryHotel PratunamMKt TwinBedNrShopingArea</td>\n",
       "      <td>491526222</td>\n",
       "      <td>Phakhamon</td>\n",
       "      <td>Ratchathewi</td>\n",
       "      <td>13.754789</td>\n",
       "      <td>100.538757</td>\n",
       "      <td>Private room</td>\n",
       "      <td>1214</td>\n",
       "      <td>1</td>\n",
       "      <td>0</td>\n",
       "      <td>0-0-0000</td>\n",
       "      <td>0</td>\n",
       "      <td>14</td>\n",
       "      <td>365</td>\n",
       "      <td>0</td>\n",
       "    </tr>\n",
       "    <tr>\n",
       "      <th>15853</th>\n",
       "      <td>790476492384199044</td>\n",
       "      <td>Euro LuxuryHotel PratunamMKt TwinBedNrShopingArea</td>\n",
       "      <td>491526222</td>\n",
       "      <td>Phakhamon</td>\n",
       "      <td>Ratchathewi</td>\n",
       "      <td>13.752960</td>\n",
       "      <td>100.540820</td>\n",
       "      <td>Private room</td>\n",
       "      <td>1214</td>\n",
       "      <td>1</td>\n",
       "      <td>0</td>\n",
       "      <td>0-0-0000</td>\n",
       "      <td>0</td>\n",
       "      <td>14</td>\n",
       "      <td>365</td>\n",
       "      <td>0</td>\n",
       "    </tr>\n",
       "  </tbody>\n",
       "</table>\n",
       "<p>15854 rows × 16 columns</p>\n",
       "</div>"
      ],
      "text/plain": [
       "                       id                                               name  \\\n",
       "0                   27934                    Nice room with superb city view   \n",
       "1                   27979                     Easy going landlord,easy place   \n",
       "2                   28745                  modern-style apartment in Bangkok   \n",
       "3                   35780     Spacious one bedroom at The Kris Condo Bldg. 3   \n",
       "4                  941865                         Suite Room 3 at MetroPoint   \n",
       "...                   ...                                                ...   \n",
       "15849  790465040741092826      素坤逸核心两房公寓42楼，靠近BTSon nut/无边天际泳池观赏曼谷夜景/出门当地美食街   \n",
       "15850  790474503157243541  Euro LuxuryHotel PratunamMKt TripleBdNrShoping...   \n",
       "15851  790475335086864240  Euro LuxuryHotel PratunamMKt TwinBedNrShopingArea   \n",
       "15852  790475546213717328  Euro LuxuryHotel PratunamMKt TwinBedNrShopingArea   \n",
       "15853  790476492384199044  Euro LuxuryHotel PratunamMKt TwinBedNrShopingArea   \n",
       "\n",
       "         host_id   host_name neighbourhood   latitude   longitude  \\\n",
       "0         120437      Nuttee   Ratchathewi  13.759830  100.541340   \n",
       "1         120541         Emy       Bang Na  13.668180  100.616740   \n",
       "2         123784  Familyroom     Bang Kapi  13.752320  100.624020   \n",
       "3         153730     Sirilak     Din Daeng  13.788230  100.572560   \n",
       "4         610315       Kasem     Bang Kapi  13.768720  100.633380   \n",
       "...          ...         ...           ...        ...         ...   \n",
       "15849   94899359       Renee       Pra Wet  13.715132  100.653458   \n",
       "15850  491526222   Phakhamon   Ratchathewi  13.753052  100.538738   \n",
       "15851  491526222   Phakhamon   Ratchathewi  13.753169  100.538700   \n",
       "15852  491526222   Phakhamon   Ratchathewi  13.754789  100.538757   \n",
       "15853  491526222   Phakhamon   Ratchathewi  13.752960  100.540820   \n",
       "\n",
       "             room_type  price  minimum_nights  number_of_reviews  \\\n",
       "0      Entire home/apt   1905               3                 65   \n",
       "1         Private room   1316               1                  0   \n",
       "2         Private room    800              60                  0   \n",
       "3         Private room   1286               7                  2   \n",
       "4         Private room   1905               1                  0   \n",
       "...                ...    ...             ...                ...   \n",
       "15849     Private room   2298              28                  0   \n",
       "15850     Private room   1429               1                  0   \n",
       "15851     Private room   1214               1                  0   \n",
       "15852     Private room   1214               1                  0   \n",
       "15853     Private room   1214               1                  0   \n",
       "\n",
       "               last_review reviews_per_month  calculated_host_listings_count  \\\n",
       "0      2020-01-06 00:00:00               0.5                               2   \n",
       "1                 0-0-0000                 0                               2   \n",
       "2                 0-0-0000                 0                               1   \n",
       "3      2022-04-01 00:00:00              0.03                               1   \n",
       "4                 0-0-0000                 0                               3   \n",
       "...                    ...               ...                             ...   \n",
       "15849             0-0-0000                 0                               1   \n",
       "15850             0-0-0000                 0                              14   \n",
       "15851             0-0-0000                 0                              14   \n",
       "15852             0-0-0000                 0                              14   \n",
       "15853             0-0-0000                 0                              14   \n",
       "\n",
       "       availability_365  number_of_reviews_ltm  \n",
       "0                   353                      0  \n",
       "1                   358                      0  \n",
       "2                   365                      0  \n",
       "3                   323                      1  \n",
       "4                   365                      0  \n",
       "...                 ...                    ...  \n",
       "15849               362                      0  \n",
       "15850               365                      0  \n",
       "15851               365                      0  \n",
       "15852               365                      0  \n",
       "15853               365                      0  \n",
       "\n",
       "[15854 rows x 16 columns]"
      ]
     },
     "execution_count": 14,
     "metadata": {},
     "output_type": "execute_result"
    }
   ],
   "source": [
    "#To check if the missing values has been filled\n",
    "df"
   ]
  },
  {
   "cell_type": "code",
   "execution_count": 15,
   "metadata": {},
   "outputs": [
    {
     "data": {
      "text/html": [
       "<div>\n",
       "<style scoped>\n",
       "    .dataframe tbody tr th:only-of-type {\n",
       "        vertical-align: middle;\n",
       "    }\n",
       "\n",
       "    .dataframe tbody tr th {\n",
       "        vertical-align: top;\n",
       "    }\n",
       "\n",
       "    .dataframe thead th {\n",
       "        text-align: right;\n",
       "    }\n",
       "</style>\n",
       "<table border=\"1\" class=\"dataframe\">\n",
       "  <thead>\n",
       "    <tr style=\"text-align: right;\">\n",
       "      <th></th>\n",
       "      <th>id</th>\n",
       "      <th>name</th>\n",
       "      <th>host_id</th>\n",
       "      <th>host_name</th>\n",
       "      <th>neighbourhood</th>\n",
       "      <th>latitude</th>\n",
       "      <th>longitude</th>\n",
       "      <th>room_type</th>\n",
       "      <th>price</th>\n",
       "      <th>minimum_nights</th>\n",
       "      <th>number_of_reviews</th>\n",
       "      <th>last_review</th>\n",
       "      <th>reviews_per_month</th>\n",
       "      <th>calculated_host_listings_count</th>\n",
       "      <th>availability_365</th>\n",
       "      <th>number_of_reviews_ltm</th>\n",
       "    </tr>\n",
       "  </thead>\n",
       "  <tbody>\n",
       "  </tbody>\n",
       "</table>\n",
       "</div>"
      ],
      "text/plain": [
       "Empty DataFrame\n",
       "Columns: [id, name, host_id, host_name, neighbourhood, latitude, longitude, room_type, price, minimum_nights, number_of_reviews, last_review, reviews_per_month, calculated_host_listings_count, availability_365, number_of_reviews_ltm]\n",
       "Index: []"
      ]
     },
     "execution_count": 15,
     "metadata": {},
     "output_type": "execute_result"
    }
   ],
   "source": [
    "# Check for duplicate rows based on all columns\n",
    "\n",
    "df[df.duplicated()]\n",
    "\n",
    "#Result: no duplicated values\n"
   ]
  },
  {
   "cell_type": "code",
   "execution_count": 16,
   "metadata": {},
   "outputs": [
    {
     "data": {
      "text/html": [
       "<div>\n",
       "<style scoped>\n",
       "    .dataframe tbody tr th:only-of-type {\n",
       "        vertical-align: middle;\n",
       "    }\n",
       "\n",
       "    .dataframe tbody tr th {\n",
       "        vertical-align: top;\n",
       "    }\n",
       "\n",
       "    .dataframe thead th {\n",
       "        text-align: right;\n",
       "    }\n",
       "</style>\n",
       "<table border=\"1\" class=\"dataframe\">\n",
       "  <thead>\n",
       "    <tr style=\"text-align: right;\">\n",
       "      <th></th>\n",
       "      <th>id</th>\n",
       "      <th>name</th>\n",
       "      <th>host_id</th>\n",
       "      <th>host_name</th>\n",
       "      <th>neighbourhood</th>\n",
       "      <th>latitude</th>\n",
       "      <th>longitude</th>\n",
       "      <th>room_type</th>\n",
       "      <th>price</th>\n",
       "      <th>minimum_nights</th>\n",
       "      <th>number_of_reviews</th>\n",
       "      <th>last_review</th>\n",
       "      <th>reviews_per_month</th>\n",
       "      <th>calculated_host_listings_count</th>\n",
       "      <th>availability_365</th>\n",
       "      <th>number_of_reviews_ltm</th>\n",
       "    </tr>\n",
       "  </thead>\n",
       "  <tbody>\n",
       "    <tr>\n",
       "      <th>0</th>\n",
       "      <td>27934</td>\n",
       "      <td>Nice room with superb city view</td>\n",
       "      <td>120437</td>\n",
       "      <td>Nuttee</td>\n",
       "      <td>Ratchathewi</td>\n",
       "      <td>13.759830</td>\n",
       "      <td>100.541340</td>\n",
       "      <td>Entire home/apt</td>\n",
       "      <td>1905</td>\n",
       "      <td>3</td>\n",
       "      <td>65</td>\n",
       "      <td>2020-01-06 00:00:00</td>\n",
       "      <td>0.5</td>\n",
       "      <td>2</td>\n",
       "      <td>353</td>\n",
       "      <td>0</td>\n",
       "    </tr>\n",
       "    <tr>\n",
       "      <th>1</th>\n",
       "      <td>27979</td>\n",
       "      <td>Easy going landlord,easy place</td>\n",
       "      <td>120541</td>\n",
       "      <td>Emy</td>\n",
       "      <td>Bang Na</td>\n",
       "      <td>13.668180</td>\n",
       "      <td>100.616740</td>\n",
       "      <td>Private room</td>\n",
       "      <td>1316</td>\n",
       "      <td>1</td>\n",
       "      <td>0</td>\n",
       "      <td>0-0-0000</td>\n",
       "      <td>0</td>\n",
       "      <td>2</td>\n",
       "      <td>358</td>\n",
       "      <td>0</td>\n",
       "    </tr>\n",
       "    <tr>\n",
       "      <th>2</th>\n",
       "      <td>28745</td>\n",
       "      <td>modern-style apartment in Bangkok</td>\n",
       "      <td>123784</td>\n",
       "      <td>Familyroom</td>\n",
       "      <td>Bang Kapi</td>\n",
       "      <td>13.752320</td>\n",
       "      <td>100.624020</td>\n",
       "      <td>Private room</td>\n",
       "      <td>800</td>\n",
       "      <td>60</td>\n",
       "      <td>0</td>\n",
       "      <td>0-0-0000</td>\n",
       "      <td>0</td>\n",
       "      <td>1</td>\n",
       "      <td>365</td>\n",
       "      <td>0</td>\n",
       "    </tr>\n",
       "    <tr>\n",
       "      <th>3</th>\n",
       "      <td>35780</td>\n",
       "      <td>Spacious one bedroom at The Kris Condo Bldg. 3</td>\n",
       "      <td>153730</td>\n",
       "      <td>Sirilak</td>\n",
       "      <td>Din Daeng</td>\n",
       "      <td>13.788230</td>\n",
       "      <td>100.572560</td>\n",
       "      <td>Private room</td>\n",
       "      <td>1286</td>\n",
       "      <td>7</td>\n",
       "      <td>2</td>\n",
       "      <td>2022-04-01 00:00:00</td>\n",
       "      <td>0.03</td>\n",
       "      <td>1</td>\n",
       "      <td>323</td>\n",
       "      <td>1</td>\n",
       "    </tr>\n",
       "    <tr>\n",
       "      <th>4</th>\n",
       "      <td>941865</td>\n",
       "      <td>Suite Room 3 at MetroPoint</td>\n",
       "      <td>610315</td>\n",
       "      <td>Kasem</td>\n",
       "      <td>Bang Kapi</td>\n",
       "      <td>13.768720</td>\n",
       "      <td>100.633380</td>\n",
       "      <td>Private room</td>\n",
       "      <td>1905</td>\n",
       "      <td>1</td>\n",
       "      <td>0</td>\n",
       "      <td>0-0-0000</td>\n",
       "      <td>0</td>\n",
       "      <td>3</td>\n",
       "      <td>365</td>\n",
       "      <td>0</td>\n",
       "    </tr>\n",
       "    <tr>\n",
       "      <th>...</th>\n",
       "      <td>...</td>\n",
       "      <td>...</td>\n",
       "      <td>...</td>\n",
       "      <td>...</td>\n",
       "      <td>...</td>\n",
       "      <td>...</td>\n",
       "      <td>...</td>\n",
       "      <td>...</td>\n",
       "      <td>...</td>\n",
       "      <td>...</td>\n",
       "      <td>...</td>\n",
       "      <td>...</td>\n",
       "      <td>...</td>\n",
       "      <td>...</td>\n",
       "      <td>...</td>\n",
       "      <td>...</td>\n",
       "    </tr>\n",
       "    <tr>\n",
       "      <th>15849</th>\n",
       "      <td>790465040741092826</td>\n",
       "      <td>素坤逸核心两房公寓42楼，靠近BTSon nut/无边天际泳池观赏曼谷夜景/出门当地美食街</td>\n",
       "      <td>94899359</td>\n",
       "      <td>Renee</td>\n",
       "      <td>Pra Wet</td>\n",
       "      <td>13.715132</td>\n",
       "      <td>100.653458</td>\n",
       "      <td>Private room</td>\n",
       "      <td>2298</td>\n",
       "      <td>28</td>\n",
       "      <td>0</td>\n",
       "      <td>0-0-0000</td>\n",
       "      <td>0</td>\n",
       "      <td>1</td>\n",
       "      <td>362</td>\n",
       "      <td>0</td>\n",
       "    </tr>\n",
       "    <tr>\n",
       "      <th>15850</th>\n",
       "      <td>790474503157243541</td>\n",
       "      <td>Euro LuxuryHotel PratunamMKt TripleBdNrShoping...</td>\n",
       "      <td>491526222</td>\n",
       "      <td>Phakhamon</td>\n",
       "      <td>Ratchathewi</td>\n",
       "      <td>13.753052</td>\n",
       "      <td>100.538738</td>\n",
       "      <td>Private room</td>\n",
       "      <td>1429</td>\n",
       "      <td>1</td>\n",
       "      <td>0</td>\n",
       "      <td>0-0-0000</td>\n",
       "      <td>0</td>\n",
       "      <td>14</td>\n",
       "      <td>365</td>\n",
       "      <td>0</td>\n",
       "    </tr>\n",
       "    <tr>\n",
       "      <th>15851</th>\n",
       "      <td>790475335086864240</td>\n",
       "      <td>Euro LuxuryHotel PratunamMKt TwinBedNrShopingArea</td>\n",
       "      <td>491526222</td>\n",
       "      <td>Phakhamon</td>\n",
       "      <td>Ratchathewi</td>\n",
       "      <td>13.753169</td>\n",
       "      <td>100.538700</td>\n",
       "      <td>Private room</td>\n",
       "      <td>1214</td>\n",
       "      <td>1</td>\n",
       "      <td>0</td>\n",
       "      <td>0-0-0000</td>\n",
       "      <td>0</td>\n",
       "      <td>14</td>\n",
       "      <td>365</td>\n",
       "      <td>0</td>\n",
       "    </tr>\n",
       "    <tr>\n",
       "      <th>15852</th>\n",
       "      <td>790475546213717328</td>\n",
       "      <td>Euro LuxuryHotel PratunamMKt TwinBedNrShopingArea</td>\n",
       "      <td>491526222</td>\n",
       "      <td>Phakhamon</td>\n",
       "      <td>Ratchathewi</td>\n",
       "      <td>13.754789</td>\n",
       "      <td>100.538757</td>\n",
       "      <td>Private room</td>\n",
       "      <td>1214</td>\n",
       "      <td>1</td>\n",
       "      <td>0</td>\n",
       "      <td>0-0-0000</td>\n",
       "      <td>0</td>\n",
       "      <td>14</td>\n",
       "      <td>365</td>\n",
       "      <td>0</td>\n",
       "    </tr>\n",
       "    <tr>\n",
       "      <th>15853</th>\n",
       "      <td>790476492384199044</td>\n",
       "      <td>Euro LuxuryHotel PratunamMKt TwinBedNrShopingArea</td>\n",
       "      <td>491526222</td>\n",
       "      <td>Phakhamon</td>\n",
       "      <td>Ratchathewi</td>\n",
       "      <td>13.752960</td>\n",
       "      <td>100.540820</td>\n",
       "      <td>Private room</td>\n",
       "      <td>1214</td>\n",
       "      <td>1</td>\n",
       "      <td>0</td>\n",
       "      <td>0-0-0000</td>\n",
       "      <td>0</td>\n",
       "      <td>14</td>\n",
       "      <td>365</td>\n",
       "      <td>0</td>\n",
       "    </tr>\n",
       "  </tbody>\n",
       "</table>\n",
       "<p>15854 rows × 16 columns</p>\n",
       "</div>"
      ],
      "text/plain": [
       "                       id                                               name  \\\n",
       "0                   27934                    Nice room with superb city view   \n",
       "1                   27979                     Easy going landlord,easy place   \n",
       "2                   28745                  modern-style apartment in Bangkok   \n",
       "3                   35780     Spacious one bedroom at The Kris Condo Bldg. 3   \n",
       "4                  941865                         Suite Room 3 at MetroPoint   \n",
       "...                   ...                                                ...   \n",
       "15849  790465040741092826      素坤逸核心两房公寓42楼，靠近BTSon nut/无边天际泳池观赏曼谷夜景/出门当地美食街   \n",
       "15850  790474503157243541  Euro LuxuryHotel PratunamMKt TripleBdNrShoping...   \n",
       "15851  790475335086864240  Euro LuxuryHotel PratunamMKt TwinBedNrShopingArea   \n",
       "15852  790475546213717328  Euro LuxuryHotel PratunamMKt TwinBedNrShopingArea   \n",
       "15853  790476492384199044  Euro LuxuryHotel PratunamMKt TwinBedNrShopingArea   \n",
       "\n",
       "         host_id   host_name neighbourhood   latitude   longitude  \\\n",
       "0         120437      Nuttee   Ratchathewi  13.759830  100.541340   \n",
       "1         120541         Emy       Bang Na  13.668180  100.616740   \n",
       "2         123784  Familyroom     Bang Kapi  13.752320  100.624020   \n",
       "3         153730     Sirilak     Din Daeng  13.788230  100.572560   \n",
       "4         610315       Kasem     Bang Kapi  13.768720  100.633380   \n",
       "...          ...         ...           ...        ...         ...   \n",
       "15849   94899359       Renee       Pra Wet  13.715132  100.653458   \n",
       "15850  491526222   Phakhamon   Ratchathewi  13.753052  100.538738   \n",
       "15851  491526222   Phakhamon   Ratchathewi  13.753169  100.538700   \n",
       "15852  491526222   Phakhamon   Ratchathewi  13.754789  100.538757   \n",
       "15853  491526222   Phakhamon   Ratchathewi  13.752960  100.540820   \n",
       "\n",
       "             room_type  price  minimum_nights  number_of_reviews  \\\n",
       "0      Entire home/apt   1905               3                 65   \n",
       "1         Private room   1316               1                  0   \n",
       "2         Private room    800              60                  0   \n",
       "3         Private room   1286               7                  2   \n",
       "4         Private room   1905               1                  0   \n",
       "...                ...    ...             ...                ...   \n",
       "15849     Private room   2298              28                  0   \n",
       "15850     Private room   1429               1                  0   \n",
       "15851     Private room   1214               1                  0   \n",
       "15852     Private room   1214               1                  0   \n",
       "15853     Private room   1214               1                  0   \n",
       "\n",
       "               last_review reviews_per_month  calculated_host_listings_count  \\\n",
       "0      2020-01-06 00:00:00               0.5                               2   \n",
       "1                 0-0-0000                 0                               2   \n",
       "2                 0-0-0000                 0                               1   \n",
       "3      2022-04-01 00:00:00              0.03                               1   \n",
       "4                 0-0-0000                 0                               3   \n",
       "...                    ...               ...                             ...   \n",
       "15849             0-0-0000                 0                               1   \n",
       "15850             0-0-0000                 0                              14   \n",
       "15851             0-0-0000                 0                              14   \n",
       "15852             0-0-0000                 0                              14   \n",
       "15853             0-0-0000                 0                              14   \n",
       "\n",
       "       availability_365  number_of_reviews_ltm  \n",
       "0                   353                      0  \n",
       "1                   358                      0  \n",
       "2                   365                      0  \n",
       "3                   323                      1  \n",
       "4                   365                      0  \n",
       "...                 ...                    ...  \n",
       "15849               362                      0  \n",
       "15850               365                      0  \n",
       "15851               365                      0  \n",
       "15852               365                      0  \n",
       "15853               365                      0  \n",
       "\n",
       "[15854 rows x 16 columns]"
      ]
     },
     "execution_count": 16,
     "metadata": {},
     "output_type": "execute_result"
    }
   ],
   "source": [
    "df"
   ]
  },
  {
   "cell_type": "markdown",
   "metadata": {},
   "source": [
    "####\n",
    "Awalnya terdapat 15854 rows × **17 columns**. Setelah data cleansing, dataset menjadi 15854 rows × **16 columns**\n",
    "\n",
    "Data cleansing dilakukan pada column\n",
    "- name\n",
    "- host_name\n",
    "- last_review\n",
    "- reviews_per_month "
   ]
  },
  {
   "cell_type": "markdown",
   "metadata": {},
   "source": [
    "### **d. Outliers**\n",
    "\n",
    "Identify outlier from every nummerical columns"
   ]
  },
  {
   "cell_type": "code",
   "execution_count": 17,
   "metadata": {},
   "outputs": [
    {
     "data": {
      "text/plain": [
       "<Axes: xlabel='price', ylabel='Density'>"
      ]
     },
     "execution_count": 17,
     "metadata": {},
     "output_type": "execute_result"
    },
    {
     "data": {
      "image/png": "[encoded data removed]",
      "text/plain": [
       "<Figure size 640x480 with 1 Axes>"
      ]
     },
     "metadata": {},
     "output_type": "display_data"
    }
   ],
   "source": [
    "# Distplot from Price\n",
    "\n",
    "sns.distplot(df['price'])"
   ]
  },
  {
   "cell_type": "code",
   "execution_count": 18,
   "metadata": {},
   "outputs": [
    {
     "data": {
      "text/plain": [
       "<Axes: xlabel='minimum_nights', ylabel='Density'>"
      ]
     },
     "execution_count": 18,
     "metadata": {},
     "output_type": "execute_result"
    },
    {
     "data": {
      "image/png": "[encoded data removed]",
      "text/plain": [
       "<Figure size 640x480 with 1 Axes>"
      ]
     },
     "metadata": {},
     "output_type": "display_data"
    }
   ],
   "source": [
    "# Distplot from Minimum Nights\n",
    "\n",
    "sns.distplot(df['minimum_nights'])"
   ]
  },
  {
   "cell_type": "code",
   "execution_count": 19,
   "metadata": {},
   "outputs": [
    {
     "data": {
      "text/plain": [
       "<Axes: xlabel='number_of_reviews', ylabel='Density'>"
      ]
     },
     "execution_count": 19,
     "metadata": {},
     "output_type": "execute_result"
    },
    {
     "data": {
      "image/png": "[encoded data removed]",
      "text/plain": [
       "<Figure size 640x480 with 1 Axes>"
      ]
     },
     "metadata": {},
     "output_type": "display_data"
    }
   ],
   "source": [
    "# Distplot from Number of Reviews\n",
    "\n",
    "sns.distplot(df['number_of_reviews'])"
   ]
  },
  {
   "cell_type": "code",
   "execution_count": 20,
   "metadata": {},
   "outputs": [
    {
     "data": {
      "text/plain": [
       "<Axes: xlabel='calculated_host_listings_count', ylabel='Density'>"
      ]
     },
     "execution_count": 20,
     "metadata": {},
     "output_type": "execute_result"
    },
    {
     "data": {
      "image/png": "[encoded data removed]",
      "text/plain": [
       "<Figure size 640x480 with 1 Axes>"
      ]
     },
     "metadata": {},
     "output_type": "display_data"
    }
   ],
   "source": [
    "# Distplot from Calculated Host Listings Count\n",
    "\n",
    "sns.distplot(df['calculated_host_listings_count'])"
   ]
  },
  {
   "cell_type": "code",
   "execution_count": 21,
   "metadata": {},
   "outputs": [
    {
     "data": {
      "text/plain": [
       "<Axes: xlabel='availability_365', ylabel='Density'>"
      ]
     },
     "execution_count": 21,
     "metadata": {},
     "output_type": "execute_result"
    },
    {
     "data": {
      "image/png": "[encoded data removed]",
      "text/plain": [
       "<Figure size 640x480 with 1 Axes>"
      ]
     },
     "metadata": {},
     "output_type": "display_data"
    }
   ],
   "source": [
    "# Distplot from Availability in a Year\n",
    "\n",
    "sns.distplot(df['availability_365'])\n",
    "\n",
    "#bilang aja ga normal"
   ]
  },
  {
   "cell_type": "code",
   "execution_count": 22,
   "metadata": {},
   "outputs": [
    {
     "data": {
      "text/plain": [
       "<Axes: xlabel='number_of_reviews_ltm', ylabel='Density'>"
      ]
     },
     "execution_count": 22,
     "metadata": {},
     "output_type": "execute_result"
    },
    {
     "data": {
      "image/png": "[encoded data removed]",
      "text/plain": [
       "<Figure size 640x480 with 1 Axes>"
      ]
     },
     "metadata": {},
     "output_type": "display_data"
    }
   ],
   "source": [
    "sns.distplot(df['number_of_reviews_ltm'])"
   ]
  },
  {
   "cell_type": "markdown",
   "metadata": {},
   "source": [
    "####\n",
    "The outliers of Airbnb Listings in Bangkok are mostly right-skewed. It means that most of the data (price, minimum nights, number of reviews, calculated host listings count, availability in 365 days, number_of_reviews_ltm) are on the left side with lower values. On the other hand, few of the data are on the right side with higher value. Mean is greater than median."
   ]
  },
  {
   "cell_type": "markdown",
   "metadata": {},
   "source": [
    "### **e. Data Visualization**\n"
   ]
  },
  {
   "cell_type": "code",
   "execution_count": 23,
   "metadata": {},
   "outputs": [
    {
     "data": {
      "text/plain": [
       "id                                15854\n",
       "name                              14795\n",
       "host_id                            6659\n",
       "host_name                          5313\n",
       "neighbourhood                        50\n",
       "latitude                           9606\n",
       "longitude                         10224\n",
       "room_type                             4\n",
       "price                              3040\n",
       "minimum_nights                       86\n",
       "number_of_reviews                   298\n",
       "last_review                        1670\n",
       "reviews_per_month                   514\n",
       "calculated_host_listings_count       50\n",
       "availability_365                    366\n",
       "number_of_reviews_ltm                85\n",
       "dtype: int64"
      ]
     },
     "execution_count": 23,
     "metadata": {},
     "output_type": "execute_result"
    }
   ],
   "source": [
    "#To know unique from each column\n",
    "\n",
    "df.nunique()"
   ]
  },
  {
   "cell_type": "markdown",
   "metadata": {},
   "source": [
    "#### 1. Top 5 Listings by Neighbourhood"
   ]
  },
  {
   "cell_type": "code",
   "execution_count": 24,
   "metadata": {},
   "outputs": [
    {
     "name": "stdout",
     "output_type": "stream",
     "text": [
      "Total rows of column 'neighbourhood': 15854\n",
      "Unique value of column 'neighbourhood:  50\n"
     ]
    }
   ],
   "source": [
    "#To see total rows in column 'neighbourhood'\n",
    "total_rows= len(df['neighbourhood'].index)\n",
    "print(\"Total rows of column 'neighbourhood':\", total_rows)\n",
    "\n",
    "#To see total unique value in column 'neighbourhood'\n",
    "total_uv= df['neighbourhood'].nunique()   \n",
    "print(\"Unique value of column 'neighbourhood: \",total_uv )    "
   ]
  },
  {
   "cell_type": "code",
   "execution_count": 25,
   "metadata": {},
   "outputs": [
    {
     "data": {
      "image/png": "[encoded data removed]",
      "text/plain": [
       "<Figure size 1200x600 with 1 Axes>"
      ]
     },
     "metadata": {},
     "output_type": "display_data"
    }
   ],
   "source": [
    "# Countplot size\n",
    "plt.figure(figsize=(12, 6))\n",
    "\n",
    "# Code to create countplot\n",
    "top5_neigbourhood = sns.countplot(x='neighbourhood', data=df, order=df['neighbourhood'].value_counts().index[:5])\n",
    "\n",
    "# Title\n",
    "plt.title('Top 5 Listings by Neighbourhood')\n",
    "\n",
    "# To make X-Axis easier to read\n",
    "plt.xticks(rotation=0)\n",
    "\n",
    "# Display the number\n",
    "for p in top5_neigbourhood.patches:\n",
    "    top5_neigbourhood.annotate(f'{int(p.get_height())}', (p.get_x() + p.get_width() / 2., p.get_height()), ha='center', va='center', fontsize=10, color='black', xytext=(0, 9), textcoords='offset points')\n",
    "\n",
    "# Show the plot\n",
    "plt.show()\n"
   ]
  },
  {
   "cell_type": "markdown",
   "metadata": {},
   "source": [
    "Berdasarkan code di atas, hal tersebut menunjukkan bahwa \n",
    "1. Total rows memiliki total yang sesuai dengan column 'id'\n",
    "2. Vadhana merupakan district yang memiliki listings terbanyak pertama\n",
    "3. Khlong Tei merupakan district yang memiliki listings terbanyak kedua\n",
    "\n",
    "Oleh karena itu, Vadhana akan menjadi pusat pada analisis ini"
   ]
  },
  {
   "cell_type": "markdown",
   "metadata": {},
   "source": [
    "#### 2. The Most Frequent Room Type in Vadhana"
   ]
  },
  {
   "cell_type": "code",
   "execution_count": 26,
   "metadata": {},
   "outputs": [
    {
     "data": {
      "image/png": "[encoded data removed]",
      "text/plain": [
       "<Figure size 1000x600 with 1 Axes>"
      ]
     },
     "metadata": {},
     "output_type": "display_data"
    }
   ],
   "source": [
    "# Filter data for Vadhana neighbourhood\n",
    "vadhana_data = df[df['neighbourhood'] == 'Vadhana']\n",
    "\n",
    "# Count the occurrences of each room type\n",
    "room_type_counts = vadhana_data['room_type'].value_counts()\n",
    "\n",
    "# Create a bar plot\n",
    "plt.figure(figsize=(10, 6))\n",
    "sns.barplot(x=room_type_counts.index, y=room_type_counts.values)\n",
    "\n",
    "# X-Axis Label\n",
    "plt.xlabel('Room Type')\n",
    "\n",
    "# Y-Axis Label\n",
    "plt.ylabel('Total')\n",
    "\n",
    "#Title\n",
    "plt.title('Most Frequent Room Type in Vadhana')\n",
    "\n",
    "# To make X-Axis easier to read\n",
    "plt.xticks(rotation=0)\n",
    "\n",
    "# Show the plot\n",
    "plt.show()\n"
   ]
  },
  {
   "cell_type": "markdown",
   "metadata": {},
   "source": [
    "Entire home or apartment is the most frequent room type in Vadhana"
   ]
  },
  {
   "cell_type": "code",
   "execution_count": null,
   "metadata": {},
   "outputs": [],
   "source": []
  },
  {
   "cell_type": "markdown",
   "metadata": {},
   "source": [
    "#### 3. Top 5 Neighbourhoods with The Lowest Total Reviews Received"
   ]
  },
  {
   "cell_type": "code",
   "execution_count": 27,
   "metadata": {},
   "outputs": [
    {
     "name": "stdout",
     "output_type": "stream",
     "text": [
      "The lowest number of reviews received in the last 12 months: 0\n"
     ]
    }
   ],
   "source": [
    "min_reviews_ltm = df['number_of_reviews_ltm'].min()\n",
    "print(\"The lowest number of reviews received in the last 12 months:\", min_reviews_ltm)"
   ]
  },
  {
   "cell_type": "code",
   "execution_count": 28,
   "metadata": {},
   "outputs": [
    {
     "data": {
      "image/png": "[encoded data removed]",
      "text/plain": [
       "<Figure size 1200x600 with 1 Axes>"
      ]
     },
     "metadata": {},
     "output_type": "display_data"
    }
   ],
   "source": [
    "# Sort the DataFrame by total reviews in the last 12 months in ascending order\n",
    "bottom_5_neighbourhoods = df.sort_values(by='number_of_reviews_ltm').tail(5)\n",
    "\n",
    "# Create a bar plot for the bottom 5 neighbourhoods\n",
    "plt.figure(figsize=(12, 6))\n",
    "\n",
    "#Code to create barplot\n",
    "sns.barplot(x='number_of_reviews_ltm', y='neighbourhood', data=bottom_5_neighbourhoods)\n",
    "\n",
    "#Title\n",
    "plt.title('Top 5 Neighbourhoods with Lowest Total Reviews (Last 12 Months)')\n",
    "\n",
    "#X-Axis title\n",
    "plt.xlabel('Total Reviews (Last 12 Months)')\n",
    "\n",
    "#Y-Axis title\n",
    "plt.ylabel('Neighborhood')\n",
    "\n",
    "#Show the bar plot\n",
    "plt.show()"
   ]
  },
  {
   "cell_type": "markdown",
   "metadata": {},
   "source": [
    "Berdasarkan data di atas, Lat Krabang mendapatkan total review paling sedikit selama 12 bulan terakhir."
   ]
  },
  {
   "cell_type": "markdown",
   "metadata": {},
   "source": [
    "#### 4. Top 5 Neighbourhoods with Lowest Review Received"
   ]
  },
  {
   "cell_type": "code",
   "execution_count": 33,
   "metadata": {},
   "outputs": [
    {
     "name": "stdout",
     "output_type": "stream",
     "text": [
      "Range of reviews_per_month: 0.0 to 19.13\n"
     ]
    }
   ],
   "source": [
    "# Convert 'reviews_per_month' to numeric, replace non-numeric values with NaN\n",
    "df['reviews_per_month'] = pd.to_numeric(df['reviews_per_month'])\n",
    "\n",
    "# Sort the DataFrame by 'reviews_per_month' column in ascending order\n",
    "df_sorted = df.sort_values(by='reviews_per_month', ascending=True)\n",
    "\n",
    "# Get the minimum and maximum values of 'reviews_per_month'\n",
    "min_reviews = df_sorted['reviews_per_month'].min()\n",
    "max_reviews = df_sorted['reviews_per_month'].max()\n",
    "\n",
    "# Print the range\n",
    "print(f\"Range of reviews_per_month: {min_reviews} to {max_reviews}\")\n"
   ]
  },
  {
   "cell_type": "code",
   "execution_count": null,
   "metadata": {},
   "outputs": [
    {
     "data": {
      "image/png": "[encoded data removed]",
      "text/plain": [
       "<Figure size 1200x600 with 1 Axes>"
      ]
     },
     "metadata": {},
     "output_type": "display_data"
    }
   ],
   "source": [
    "# Sort the DataFrame by reviews_per_month in ascending order\n",
    "bottom_5_neighbourhoods = df.sort_values(by='reviews_per_month').head(5)\n",
    "\n",
    "# Create a bar plot for the bottom 5 neighbourhoods\n",
    "plt.figure(figsize=(12, 6))\n",
    "\n",
    "# Code to create barplot\n",
    "sns.barplot(x='neighbourhood', y='reviews_per_month', data=bottom_5_neighbourhoods)\n",
    "\n",
    "# Title\n",
    "plt.title('Top 5 Neighbourhoods with Lowest Reviews per Month')\n",
    "\n",
    "# X-Axis title\n",
    "plt.xlabel('Neighbourhood')\n",
    "\n",
    "# Y-Axis title\n",
    "plt.ylabel('Reviews per Month')\n",
    "\n",
    "# Show the bar plot\n",
    "plt.show()\n"
   ]
  },
  {
   "cell_type": "markdown",
   "metadata": {},
   "source": [
    "Khlong San, Khlong Toei, Chatu Chak, Dusit merupakan distrik yang menerima review terendah"
   ]
  },
  {
   "cell_type": "markdown",
   "metadata": {},
   "source": [
    "#### 5. Top 5 Host with the Lowest Total Reviews Received Khlong Tei"
   ]
  },
  {
   "cell_type": "code",
   "execution_count": 35,
   "metadata": {},
   "outputs": [
    {
     "ename": "ValueError",
     "evalue": "min() arg is an empty sequence",
     "output_type": "error",
     "traceback": [
      "\u001b[1;31m---------------------------------------------------------------------------\u001b[0m",
      "\u001b[1;31mValueError\u001b[0m                                Traceback (most recent call last)",
      "\u001b[1;32mc:\\Users\\Zaneta Gilda\\Z's VSCode\\Modul 2\\2. Python for Data Analysis\\Capstone Modul 2.ipynb Cell 57\u001b[0m line \u001b[0;36m9\n\u001b[0;32m      <a href='vscode-notebook-cell:/c%3A/Users/Zaneta%20Gilda/Z%27s%20VSCode/Modul%202/2.%20Python%20for%20Data%20Analysis/Capstone%20Modul%202.ipynb#Y114sZmlsZQ%3D%3D?line=6'>7</a>\u001b[0m \u001b[39m# Create a bar plot\u001b[39;00m\n\u001b[0;32m      <a href='vscode-notebook-cell:/c%3A/Users/Zaneta%20Gilda/Z%27s%20VSCode/Modul%202/2.%20Python%20for%20Data%20Analysis/Capstone%20Modul%202.ipynb#Y114sZmlsZQ%3D%3D?line=7'>8</a>\u001b[0m plt\u001b[39m.\u001b[39mfigure(figsize\u001b[39m=\u001b[39m(\u001b[39m12\u001b[39m, \u001b[39m6\u001b[39m))\n\u001b[1;32m----> <a href='vscode-notebook-cell:/c%3A/Users/Zaneta%20Gilda/Z%27s%20VSCode/Modul%202/2.%20Python%20for%20Data%20Analysis/Capstone%20Modul%202.ipynb#Y114sZmlsZQ%3D%3D?line=8'>9</a>\u001b[0m sns\u001b[39m.\u001b[39;49mbarplot(x\u001b[39m=\u001b[39;49m\u001b[39m'\u001b[39;49m\u001b[39mnumber_of_reviews_ltm\u001b[39;49m\u001b[39m'\u001b[39;49m, y\u001b[39m=\u001b[39;49m\u001b[39m'\u001b[39;49m\u001b[39mid\u001b[39;49m\u001b[39m'\u001b[39;49m, data\u001b[39m=\u001b[39;49msorted_data, palette\u001b[39m=\u001b[39;49m\u001b[39m'\u001b[39;49m\u001b[39mviridis\u001b[39;49m\u001b[39m'\u001b[39;49m)\n\u001b[0;32m     <a href='vscode-notebook-cell:/c%3A/Users/Zaneta%20Gilda/Z%27s%20VSCode/Modul%202/2.%20Python%20for%20Data%20Analysis/Capstone%20Modul%202.ipynb#Y114sZmlsZQ%3D%3D?line=10'>11</a>\u001b[0m \u001b[39m# Set the title\u001b[39;00m\n\u001b[0;32m     <a href='vscode-notebook-cell:/c%3A/Users/Zaneta%20Gilda/Z%27s%20VSCode/Modul%202/2.%20Python%20for%20Data%20Analysis/Capstone%20Modul%202.ipynb#Y114sZmlsZQ%3D%3D?line=11'>12</a>\u001b[0m plt\u001b[39m.\u001b[39mtitle(\u001b[39m'\u001b[39m\u001b[39mTop 5 Hosts with the Lowest Total Reviews Received in Khlong Tei\u001b[39m\u001b[39m'\u001b[39m)\n",
      "File \u001b[1;32mc:\\Users\\Zaneta Gilda\\AppData\\Local\\Programs\\Python\\Python311\\Lib\\site-packages\\seaborn\\categorical.py:2755\u001b[0m, in \u001b[0;36mbarplot\u001b[1;34m(data, x, y, hue, order, hue_order, estimator, errorbar, n_boot, units, seed, orient, color, palette, saturation, width, errcolor, errwidth, capsize, dodge, ci, ax, **kwargs)\u001b[0m\n\u001b[0;32m   2752\u001b[0m \u001b[39mif\u001b[39;00m estimator \u001b[39mis\u001b[39;00m \u001b[39mlen\u001b[39m:\n\u001b[0;32m   2753\u001b[0m     estimator \u001b[39m=\u001b[39m \u001b[39m\"\u001b[39m\u001b[39msize\u001b[39m\u001b[39m\"\u001b[39m\n\u001b[1;32m-> 2755\u001b[0m plotter \u001b[39m=\u001b[39m _BarPlotter(x, y, hue, data, order, hue_order,\n\u001b[0;32m   2756\u001b[0m                       estimator, errorbar, n_boot, units, seed,\n\u001b[0;32m   2757\u001b[0m                       orient, color, palette, saturation,\n\u001b[0;32m   2758\u001b[0m                       width, errcolor, errwidth, capsize, dodge)\n\u001b[0;32m   2760\u001b[0m \u001b[39mif\u001b[39;00m ax \u001b[39mis\u001b[39;00m \u001b[39mNone\u001b[39;00m:\n\u001b[0;32m   2761\u001b[0m     ax \u001b[39m=\u001b[39m plt\u001b[39m.\u001b[39mgca()\n",
      "File \u001b[1;32mc:\\Users\\Zaneta Gilda\\AppData\\Local\\Programs\\Python\\Python311\\Lib\\site-packages\\seaborn\\categorical.py:1532\u001b[0m, in \u001b[0;36m_BarPlotter.__init__\u001b[1;34m(self, x, y, hue, data, order, hue_order, estimator, errorbar, n_boot, units, seed, orient, color, palette, saturation, width, errcolor, errwidth, capsize, dodge)\u001b[0m\n\u001b[0;32m   1529\u001b[0m \u001b[39m\u001b[39m\u001b[39m\"\"\"Initialize the plotter.\"\"\"\u001b[39;00m\n\u001b[0;32m   1530\u001b[0m \u001b[39mself\u001b[39m\u001b[39m.\u001b[39mestablish_variables(x, y, hue, data, orient,\n\u001b[0;32m   1531\u001b[0m                          order, hue_order, units)\n\u001b[1;32m-> 1532\u001b[0m \u001b[39mself\u001b[39;49m\u001b[39m.\u001b[39;49mestablish_colors(color, palette, saturation)\n\u001b[0;32m   1533\u001b[0m \u001b[39mself\u001b[39m\u001b[39m.\u001b[39mestimate_statistic(estimator, errorbar, n_boot, seed)\n\u001b[0;32m   1535\u001b[0m \u001b[39mself\u001b[39m\u001b[39m.\u001b[39mdodge \u001b[39m=\u001b[39m dodge\n",
      "File \u001b[1;32mc:\\Users\\Zaneta Gilda\\AppData\\Local\\Programs\\Python\\Python311\\Lib\\site-packages\\seaborn\\categorical.py:707\u001b[0m, in \u001b[0;36m_CategoricalPlotter.establish_colors\u001b[1;34m(self, color, palette, saturation)\u001b[0m\n\u001b[0;32m    705\u001b[0m \u001b[39m# Determine the gray color to use for the lines framing the plot\u001b[39;00m\n\u001b[0;32m    706\u001b[0m light_vals \u001b[39m=\u001b[39m [rgb_to_hls(\u001b[39m*\u001b[39mc)[\u001b[39m1\u001b[39m] \u001b[39mfor\u001b[39;00m c \u001b[39min\u001b[39;00m rgb_colors]\n\u001b[1;32m--> 707\u001b[0m lum \u001b[39m=\u001b[39m \u001b[39mmin\u001b[39;49m(light_vals) \u001b[39m*\u001b[39m \u001b[39m.6\u001b[39m\n\u001b[0;32m    708\u001b[0m gray \u001b[39m=\u001b[39m mpl\u001b[39m.\u001b[39mcolors\u001b[39m.\u001b[39mrgb2hex((lum, lum, lum))\n\u001b[0;32m    710\u001b[0m \u001b[39m# Assign object attributes\u001b[39;00m\n",
      "\u001b[1;31mValueError\u001b[0m: min() arg is an empty sequence"
     ]
    },
    {
     "data": {
      "text/plain": [
       "<Figure size 1200x600 with 0 Axes>"
      ]
     },
     "metadata": {},
     "output_type": "display_data"
    }
   ],
   "source": [
    "# Filter the DataFrame for 'Khlong Tei' neighborhood\n",
    "khlong_tei_data = df[df['neighbourhood'] == 'Khlong Tei']\n",
    "\n",
    "# Sort the data by 'number_of_reviews_ltm' in ascending order\n",
    "sorted_data = khlong_tei_data.sort_values(by='number_of_reviews_ltm', ascending=True).head(5)\n",
    "\n",
    "# Create a bar plot\n",
    "plt.figure(figsize=(12, 6))\n",
    "sns.barplot(x='number_of_reviews_ltm', y='host_id', data=sorted_data, palette='viridis')\n",
    "\n",
    "# Set the title\n",
    "plt.title('Top 5 Hosts with the Lowest Total Reviews Received in Khlong Tei')\n",
    "\n",
    "# Set the labels for x and y axes\n",
    "plt.xlabel('Total Reviews (Last 12 Months)')\n",
    "plt.ylabel('Host ID')\n",
    "\n",
    "# Show the plot\n",
    "plt.show()"
   ]
  },
  {
   "cell_type": "code",
   "execution_count": 43,
   "metadata": {},
   "outputs": [
    {
     "name": "stdout",
     "output_type": "stream",
     "text": [
      "Range of reviews_per_month: 0.0 to 19.13\n"
     ]
    }
   ],
   "source": [
    "# Check if the DataFrame is empty\n",
    "if df_sorted.empty:\n",
    "    print(\"The DataFrame is empty. No minimum value.\")\n",
    "else:\n",
    "    # Get the minimum and maximum values of 'reviews_per_month'\n",
    "    min_reviews = df_sorted['reviews_per_month'].min()\n",
    "    max_reviews = df_sorted['reviews_per_month'].max()\n",
    "\n",
    "    # Print the range\n",
    "    print(f\"Range of reviews_per_month: {min_reviews} to {max_reviews}\")"
   ]
  },
  {
   "cell_type": "markdown",
   "metadata": {},
   "source": [
    "#### 6. Top 5 Host with Lowest Review Received in Khlong Tei"
   ]
  },
  {
   "cell_type": "code",
   "execution_count": 39,
   "metadata": {},
   "outputs": [
    {
     "ename": "ValueError",
     "evalue": "min() arg is an empty sequence",
     "output_type": "error",
     "traceback": [
      "\u001b[1;31m---------------------------------------------------------------------------\u001b[0m",
      "\u001b[1;31mValueError\u001b[0m                                Traceback (most recent call last)",
      "\u001b[1;32mc:\\Users\\Zaneta Gilda\\Z's VSCode\\Modul 2\\2. Python for Data Analysis\\Capstone Modul 2.ipynb Cell 59\u001b[0m line \u001b[0;36m9\n\u001b[0;32m      <a href='vscode-notebook-cell:/c%3A/Users/Zaneta%20Gilda/Z%27s%20VSCode/Modul%202/2.%20Python%20for%20Data%20Analysis/Capstone%20Modul%202.ipynb#Y116sZmlsZQ%3D%3D?line=6'>7</a>\u001b[0m \u001b[39m# Create a bar plot\u001b[39;00m\n\u001b[0;32m      <a href='vscode-notebook-cell:/c%3A/Users/Zaneta%20Gilda/Z%27s%20VSCode/Modul%202/2.%20Python%20for%20Data%20Analysis/Capstone%20Modul%202.ipynb#Y116sZmlsZQ%3D%3D?line=7'>8</a>\u001b[0m plt\u001b[39m.\u001b[39mfigure(figsize\u001b[39m=\u001b[39m(\u001b[39m12\u001b[39m, \u001b[39m6\u001b[39m))\n\u001b[1;32m----> <a href='vscode-notebook-cell:/c%3A/Users/Zaneta%20Gilda/Z%27s%20VSCode/Modul%202/2.%20Python%20for%20Data%20Analysis/Capstone%20Modul%202.ipynb#Y116sZmlsZQ%3D%3D?line=8'>9</a>\u001b[0m sns\u001b[39m.\u001b[39;49mbarplot(x\u001b[39m=\u001b[39;49m\u001b[39m'\u001b[39;49m\u001b[39mreviews_per_month\u001b[39;49m\u001b[39m'\u001b[39;49m, y\u001b[39m=\u001b[39;49m\u001b[39m'\u001b[39;49m\u001b[39mhost_id\u001b[39;49m\u001b[39m'\u001b[39;49m, data\u001b[39m=\u001b[39;49msorted_data, palette\u001b[39m=\u001b[39;49m\u001b[39m'\u001b[39;49m\u001b[39mviridis\u001b[39;49m\u001b[39m'\u001b[39;49m)\n\u001b[0;32m     <a href='vscode-notebook-cell:/c%3A/Users/Zaneta%20Gilda/Z%27s%20VSCode/Modul%202/2.%20Python%20for%20Data%20Analysis/Capstone%20Modul%202.ipynb#Y116sZmlsZQ%3D%3D?line=10'>11</a>\u001b[0m \u001b[39m# Set the title\u001b[39;00m\n\u001b[0;32m     <a href='vscode-notebook-cell:/c%3A/Users/Zaneta%20Gilda/Z%27s%20VSCode/Modul%202/2.%20Python%20for%20Data%20Analysis/Capstone%20Modul%202.ipynb#Y116sZmlsZQ%3D%3D?line=11'>12</a>\u001b[0m plt\u001b[39m.\u001b[39mtitle(\u001b[39m'\u001b[39m\u001b[39mTop 5 Hosts with the Lowest Review Received in Khlong Tei\u001b[39m\u001b[39m'\u001b[39m)\n",
      "File \u001b[1;32mc:\\Users\\Zaneta Gilda\\AppData\\Local\\Programs\\Python\\Python311\\Lib\\site-packages\\seaborn\\categorical.py:2755\u001b[0m, in \u001b[0;36mbarplot\u001b[1;34m(data, x, y, hue, order, hue_order, estimator, errorbar, n_boot, units, seed, orient, color, palette, saturation, width, errcolor, errwidth, capsize, dodge, ci, ax, **kwargs)\u001b[0m\n\u001b[0;32m   2752\u001b[0m \u001b[39mif\u001b[39;00m estimator \u001b[39mis\u001b[39;00m \u001b[39mlen\u001b[39m:\n\u001b[0;32m   2753\u001b[0m     estimator \u001b[39m=\u001b[39m \u001b[39m\"\u001b[39m\u001b[39msize\u001b[39m\u001b[39m\"\u001b[39m\n\u001b[1;32m-> 2755\u001b[0m plotter \u001b[39m=\u001b[39m _BarPlotter(x, y, hue, data, order, hue_order,\n\u001b[0;32m   2756\u001b[0m                       estimator, errorbar, n_boot, units, seed,\n\u001b[0;32m   2757\u001b[0m                       orient, color, palette, saturation,\n\u001b[0;32m   2758\u001b[0m                       width, errcolor, errwidth, capsize, dodge)\n\u001b[0;32m   2760\u001b[0m \u001b[39mif\u001b[39;00m ax \u001b[39mis\u001b[39;00m \u001b[39mNone\u001b[39;00m:\n\u001b[0;32m   2761\u001b[0m     ax \u001b[39m=\u001b[39m plt\u001b[39m.\u001b[39mgca()\n",
      "File \u001b[1;32mc:\\Users\\Zaneta Gilda\\AppData\\Local\\Programs\\Python\\Python311\\Lib\\site-packages\\seaborn\\categorical.py:1532\u001b[0m, in \u001b[0;36m_BarPlotter.__init__\u001b[1;34m(self, x, y, hue, data, order, hue_order, estimator, errorbar, n_boot, units, seed, orient, color, palette, saturation, width, errcolor, errwidth, capsize, dodge)\u001b[0m\n\u001b[0;32m   1529\u001b[0m \u001b[39m\u001b[39m\u001b[39m\"\"\"Initialize the plotter.\"\"\"\u001b[39;00m\n\u001b[0;32m   1530\u001b[0m \u001b[39mself\u001b[39m\u001b[39m.\u001b[39mestablish_variables(x, y, hue, data, orient,\n\u001b[0;32m   1531\u001b[0m                          order, hue_order, units)\n\u001b[1;32m-> 1532\u001b[0m \u001b[39mself\u001b[39;49m\u001b[39m.\u001b[39;49mestablish_colors(color, palette, saturation)\n\u001b[0;32m   1533\u001b[0m \u001b[39mself\u001b[39m\u001b[39m.\u001b[39mestimate_statistic(estimator, errorbar, n_boot, seed)\n\u001b[0;32m   1535\u001b[0m \u001b[39mself\u001b[39m\u001b[39m.\u001b[39mdodge \u001b[39m=\u001b[39m dodge\n",
      "File \u001b[1;32mc:\\Users\\Zaneta Gilda\\AppData\\Local\\Programs\\Python\\Python311\\Lib\\site-packages\\seaborn\\categorical.py:707\u001b[0m, in \u001b[0;36m_CategoricalPlotter.establish_colors\u001b[1;34m(self, color, palette, saturation)\u001b[0m\n\u001b[0;32m    705\u001b[0m \u001b[39m# Determine the gray color to use for the lines framing the plot\u001b[39;00m\n\u001b[0;32m    706\u001b[0m light_vals \u001b[39m=\u001b[39m [rgb_to_hls(\u001b[39m*\u001b[39mc)[\u001b[39m1\u001b[39m] \u001b[39mfor\u001b[39;00m c \u001b[39min\u001b[39;00m rgb_colors]\n\u001b[1;32m--> 707\u001b[0m lum \u001b[39m=\u001b[39m \u001b[39mmin\u001b[39;49m(light_vals) \u001b[39m*\u001b[39m \u001b[39m.6\u001b[39m\n\u001b[0;32m    708\u001b[0m gray \u001b[39m=\u001b[39m mpl\u001b[39m.\u001b[39mcolors\u001b[39m.\u001b[39mrgb2hex((lum, lum, lum))\n\u001b[0;32m    710\u001b[0m \u001b[39m# Assign object attributes\u001b[39;00m\n",
      "\u001b[1;31mValueError\u001b[0m: min() arg is an empty sequence"
     ]
    },
    {
     "data": {
      "text/plain": [
       "<Figure size 1200x600 with 0 Axes>"
      ]
     },
     "metadata": {},
     "output_type": "display_data"
    }
   ],
   "source": [
    "# Filter the DataFrame for 'Khlong Tei' neighborhood\n",
    "khlong_tei_data = df[df['neighbourhood'] == 'Khlong Tei']\n",
    "\n",
    "# Sort the data by 'reviews_per_month' in ascending order\n",
    "sorted_data = khlong_tei_data.sort_values(by='reviews_per_month').head(5)\n",
    "\n",
    "# Create a bar plot\n",
    "plt.figure(figsize=(12, 6))\n",
    "sns.barplot(x='reviews_per_month', y='host_id', data=sorted_data, palette='viridis')\n",
    "\n",
    "# Set the title\n",
    "plt.title('Top 5 Hosts with the Lowest Review Received in Khlong Tei')\n",
    "\n",
    "# Set the labels for x and y axes\n",
    "plt.xlabel('Reviews Per Month')\n",
    "plt.ylabel('Host Name')\n",
    "\n",
    "# Show the plot\n",
    "plt.show()\n"
   ]
  },
  {
   "cell_type": "markdown",
   "metadata": {},
   "source": [
    "Khlong Thei memiliki listings terbanyak kedua serta distrik yang menerima review terendah. Oleh karena itu, Khlong Thei akan menjadi pusat pada analisis ini. Data visualisasi lebih lanjut mengenai Khlong Tei akan dijelaskan pada story Tableau."
   ]
  },
  {
   "cell_type": "markdown",
   "metadata": {},
   "source": [
    "Recommendations:\n",
    "1. Setelah guests memberi review, Airbnb dapat memberikan tambahan poin sehingga mendapatkan potongan harga untuk stay berikutnya\n",
    "2. Airbnb memberi sebuah pesan reminder melalui e-mail aplikasi dari guest \n",
    "3. Saat guest hendak memberi review, guest diberi sebuah penjelasan bahwa review harus ditulis secara jujur dan host tidak mampu mengganggu gugat atas review tersebut\n",
    "4. Airbnb menghubungi host yang memiliki unit dengan bad atau no review. Hal tersebut dilakukan agar host meningkatkan kualitas unitnya. Apabila tidak dilaksanakan dalam waktu tertentu, maka Airbnb memiliki otoritas untuk memutuskan hubungan dengan host. Pihak Airbnb juga harus mengawasi setiap progress dari host terhadap unitnya.\n"
   ]
  }
 ],
 "metadata": {
  "kernelspec": {
   "display_name": "Python 3",
   "language": "python",
   "name": "python3"
  },
  "language_info": {
   "codemirror_mode": {
    "name": "ipython",
    "version": 3
   },
   "file_extension": ".py",
   "mimetype": "text/x-python",
   "name": "python",
   "nbconvert_exporter": "python",
   "pygments_lexer": "ipython3",
   "version": "3.11.4"
  },
  "orig_nbformat": 4
 },
 "nbformat": 4,
 "nbformat_minor": 2
}
